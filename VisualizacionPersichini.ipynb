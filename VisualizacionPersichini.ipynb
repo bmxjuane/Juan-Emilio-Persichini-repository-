{
  "nbformat": 4,
  "nbformat_minor": 0,
  "metadata": {
    "colab": {
      "provenance": [],
      "authorship_tag": "ABX9TyNw8Jk8JNyd8+qCC5TsM9Cn",
      "include_colab_link": true
    },
    "kernelspec": {
      "name": "python3",
      "display_name": "Python 3"
    },
    "language_info": {
      "name": "python"
    }
  },
  "cells": [
    {
      "cell_type": "markdown",
      "metadata": {
        "id": "view-in-github",
        "colab_type": "text"
      },
      "source": [
        "<a href=\"https://colab.research.google.com/github/bmxjuane/Juan-Emilio-Persichini-repository-/blob/main/VisualizacionPersichini.ipynb\" target=\"_parent\"><img src=\"https://colab.research.google.com/assets/colab-badge.svg\" alt=\"Open In Colab\"/></a>"
      ]
    },
    {
      "cell_type": "markdown",
      "source": [
        "El dataset elegido reune 3100 de canciones que han sido rankeadas de acuerdo a la cantidad de reproducciones que tuvieron cada dia durante todo el mes de Diciembre de 2018.\n",
        "\n",
        "Ejemplo: \"Thank u, next\" de Ariana Grande estuvo en la posicion uno el dia 3, 4, 5 de Diciembre (entre otros) pero la cancion mas reproducida de todo el listado fue \"All I Want for Christmas Is You\" de Mariah Carey el 24/12/2018.\n",
        "\n",
        "Cada cancion tiene las siguientes caracteristicas: danceability, energy, speechiness, acousticness, valence, tempo.\n",
        "\n",
        "Asi como tambien está incluido en el dataset el \"track_name\" (nombre de cada cancion), \"position\" (posicion en el ranking diario), \"artist\" (artista que hizo la cancion) y \"streams\" (cantidad de reproducciones que tuvo ese dia)\n",
        "\n",
        "Vamos a plantear una serie de hipotesis:\n",
        "- Predecir cuales valores deben contener las canciones (en sus features) para estimar si sus reproducciones van a ser altas (como para estar en el top 10 por ejemplo)\n",
        "- Que dias del mes tuvieron la mayor cantidad de reproducciones\n",
        "- Si existe una relacion directa entre alguna variable y la cantidad de reproducciones\n",
        "- Si existe alguna relacion directa entre la posicion en el ranking y alguna variable"
      ],
      "metadata": {
        "id": "pdcY4ohxzpWS"
      }
    },
    {
      "cell_type": "code",
      "source": [],
      "metadata": {
        "id": "Ldr4Ooqd5AOI"
      },
      "execution_count": null,
      "outputs": []
    },
    {
      "cell_type": "code",
      "execution_count": null,
      "metadata": {
        "id": "IMWdRN-Szktj"
      },
      "outputs": [],
      "source": [
        "import numpy as np\n",
        "import pandas as pd\n",
        "import seaborn as sns\n",
        "import matplotlib.pyplot as plt"
      ]
    },
    {
      "cell_type": "markdown",
      "source": [],
      "metadata": {
        "id": "fsd2BT1ezobq"
      }
    }
  ]
}